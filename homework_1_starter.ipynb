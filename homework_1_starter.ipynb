{
 "cells": [
  {
   "cell_type": "markdown",
   "metadata": {},
   "source": [
    "Created on Sat Oct 15 16:57:34 2016\n",
    "\n",
    "@author: alsherman\n",
    "\n",
    "Data Source: https://github.com/fivethirtyeight/data/tree/master/airline-safety"
   ]
  },
  {
   "cell_type": "markdown",
   "metadata": {},
   "source": [
    "# Setup"
   ]
  },
  {
   "cell_type": "markdown",
   "metadata": {},
   "source": [
    "Run the following line of code that will assign a string of airlines to the airlines variable."
   ]
  },
  {
   "cell_type": "code",
   "execution_count": 1,
   "metadata": {},
   "outputs": [
    {
     "data": {
      "text/plain": [
       "'Aer Lingus,Aeroflot*,Aerolineas Argentinas,Aeromexico*,Air Canada,Air France,Air India*,Air New Zealand*,Alaska Airlines*,Alitalia,All Nippon Airways,American*,Austrian Airlines,Avianca,British Airways*,Cathay Pacific*,China Airlines,Condor,COPA,Delta / Northwest*,Egyptair,El Al,Ethiopian Airlines,Finnair,Garuda Indonesia,Gulf Air,Hawaiian Airlines,Iberia,Japan Airlines,Kenya Airways,KLM*,Korean Air,LAN Airlines,Lufthansa*,Malaysia Airlines,Pakistan International,Philippine Airlines,Qantas*,Royal Air Maroc,SAS*,Saudi Arabian,Singapore Airlines,South African,Southwest Airlines,Sri Lankan / AirLanka,SWISS*,TACA,TAM,TAP - Air Portugal,Thai Airways,Turkish Airlines,United / Continental*,US Airways / America West*,Vietnam Airlines,Virgin Atlantic,Xiamen Airlines'"
      ]
     },
     "execution_count": 1,
     "metadata": {},
     "output_type": "execute_result"
    }
   ],
   "source": [
    "airlines = \"\"\"Aer Lingus,Aeroflot*,Aerolineas Argentinas,Aeromexico*,Air Canada,Air France,\\\n",
    "Air India*,Air New Zealand*,Alaska Airlines*,Alitalia,All Nippon Airways,American*,\\\n",
    "Austrian Airlines,Avianca,British Airways*,Cathay Pacific*,China Airlines,Condor,\\\n",
    "COPA,Delta / Northwest*,Egyptair,El Al,Ethiopian Airlines,Finnair,Garuda Indonesia,\\\n",
    "Gulf Air,Hawaiian Airlines,Iberia,Japan Airlines,Kenya Airways,KLM*,Korean Air,LAN Airlines,\\\n",
    "Lufthansa*,Malaysia Airlines,Pakistan International,Philippine Airlines,Qantas*,\\\n",
    "Royal Air Maroc,SAS*,Saudi Arabian,Singapore Airlines,South African,Southwest Airlines,\\\n",
    "Sri Lankan / AirLanka,SWISS*,TACA,TAM,TAP - Air Portugal,Thai Airways,Turkish Airlines,\\\n",
    "United / Continental*,US Airways / America West*,Vietnam Airlines,Virgin Atlantic,\\\n",
    "Xiamen Airlines\"\"\"\n",
    "\n",
    "airlines"
   ]
  },
  {
   "cell_type": "markdown",
   "metadata": {},
   "source": [
    "# Question 1: What type is the variable \"airlines\"?"
   ]
  },
  {
   "cell_type": "code",
   "execution_count": 2,
   "metadata": {
    "scrolled": true
   },
   "outputs": [
    {
     "data": {
      "text/plain": [
       "str"
      ]
     },
     "execution_count": 2,
     "metadata": {},
     "output_type": "execute_result"
    }
   ],
   "source": [
    "type(airlines)"
   ]
  },
  {
   "cell_type": "markdown",
   "metadata": {},
   "source": [
    "# Question 2: What operations can we conduct on type airlines?"
   ]
  },
  {
   "cell_type": "code",
   "execution_count": 3,
   "metadata": {
    "scrolled": true
   },
   "outputs": [
    {
     "data": {
      "text/plain": [
       "['__add__',\n",
       " '__class__',\n",
       " '__contains__',\n",
       " '__delattr__',\n",
       " '__dir__',\n",
       " '__doc__',\n",
       " '__eq__',\n",
       " '__format__',\n",
       " '__ge__',\n",
       " '__getattribute__',\n",
       " '__getitem__',\n",
       " '__getnewargs__',\n",
       " '__gt__',\n",
       " '__hash__',\n",
       " '__init__',\n",
       " '__init_subclass__',\n",
       " '__iter__',\n",
       " '__le__',\n",
       " '__len__',\n",
       " '__lt__',\n",
       " '__mod__',\n",
       " '__mul__',\n",
       " '__ne__',\n",
       " '__new__',\n",
       " '__reduce__',\n",
       " '__reduce_ex__',\n",
       " '__repr__',\n",
       " '__rmod__',\n",
       " '__rmul__',\n",
       " '__setattr__',\n",
       " '__sizeof__',\n",
       " '__str__',\n",
       " '__subclasshook__',\n",
       " 'capitalize',\n",
       " 'casefold',\n",
       " 'center',\n",
       " 'count',\n",
       " 'encode',\n",
       " 'endswith',\n",
       " 'expandtabs',\n",
       " 'find',\n",
       " 'format',\n",
       " 'format_map',\n",
       " 'index',\n",
       " 'isalnum',\n",
       " 'isalpha',\n",
       " 'isascii',\n",
       " 'isdecimal',\n",
       " 'isdigit',\n",
       " 'isidentifier',\n",
       " 'islower',\n",
       " 'isnumeric',\n",
       " 'isprintable',\n",
       " 'isspace',\n",
       " 'istitle',\n",
       " 'isupper',\n",
       " 'join',\n",
       " 'ljust',\n",
       " 'lower',\n",
       " 'lstrip',\n",
       " 'maketrans',\n",
       " 'partition',\n",
       " 'replace',\n",
       " 'rfind',\n",
       " 'rindex',\n",
       " 'rjust',\n",
       " 'rpartition',\n",
       " 'rsplit',\n",
       " 'rstrip',\n",
       " 'split',\n",
       " 'splitlines',\n",
       " 'startswith',\n",
       " 'strip',\n",
       " 'swapcase',\n",
       " 'title',\n",
       " 'translate',\n",
       " 'upper',\n",
       " 'zfill']"
      ]
     },
     "execution_count": 3,
     "metadata": {},
     "output_type": "execute_result"
    }
   ],
   "source": [
    "dir(airlines)"
   ]
  },
  {
   "cell_type": "markdown",
   "metadata": {},
   "source": [
    "# Question 3: How many airlines are there?"
   ]
  },
  {
   "cell_type": "code",
   "execution_count": 4,
   "metadata": {},
   "outputs": [
    {
     "name": "stdout",
     "output_type": "stream",
     "text": [
      "57\n"
     ]
    }
   ],
   "source": [
    "#create a counter\n",
    "counter =2\n",
    "#loop for , and count \n",
    "for character in airlines:\n",
    "    if character ==',':\n",
    "        counter +=1\n",
    "#print the count\n",
    "print(counter)\n",
    "\n"
   ]
  },
  {
   "cell_type": "markdown",
   "metadata": {},
   "source": [
    "# Question 4: How many airlines start with the letter 'A' (only capital letters) ?"
   ]
  },
  {
   "cell_type": "code",
   "execution_count": 5,
   "metadata": {
    "scrolled": true
   },
   "outputs": [
    {
     "name": "stdout",
     "output_type": "stream",
     "text": [
      "Number of air lines starting with A : 14\n"
     ]
    }
   ],
   "source": [
    "#split by commas\n",
    "new_str= airlines.split(',')\n",
    "#print (new_str)\n",
    "counter=0\n",
    "#check for letter A and add to counter if 1st letter is A\n",
    "for name in new_str:\n",
    "    if name[0]== 'A':\n",
    "        counter +=1        \n",
    "print (\"Number of air lines starting with A : \"+ str(counter))    "
   ]
  },
  {
   "cell_type": "markdown",
   "metadata": {},
   "source": [
    "# Question 5: create a list that only includes airlines that start with the letter \"A\""
   ]
  },
  {
   "cell_type": "code",
   "execution_count": 6,
   "metadata": {},
   "outputs": [
    {
     "name": "stdout",
     "output_type": "stream",
     "text": [
      "Number of air lines starting with A : 14\n",
      "Number of air lines starting with A : ['Aer Lingus', 'Aeroflot*', 'Aerolineas Argentinas', 'Aeromexico*', 'Air Canada', 'Air France', 'Air India*', 'Air New Zealand*', 'Alaska Airlines*', 'Alitalia', 'All Nippon Airways', 'American*', 'Austrian Airlines', 'Avianca']\n"
     ]
    }
   ],
   "source": [
    "new_str= airlines.split(',')\n",
    "#print (new_str)\n",
    "list_with_A=[]\n",
    "counter=0\n",
    "for name in new_str:\n",
    "    if name[0]== 'A':\n",
    "        counter +=1\n",
    "        list_with_A.append(name)\n",
    "print (\"Number of air lines starting with A : \"+ str(counter)) \n",
    "print (\"Number of air lines starting with A : \"+ str(list_with_A))"
   ]
  },
  {
   "cell_type": "markdown",
   "metadata": {},
   "source": [
    "# Question 6: Create a list (of the same length) that contains 1 if there's a star and 0 if not.\n",
    "Expected output: [0, 1, 0, ...]"
   ]
  },
  {
   "cell_type": "code",
   "execution_count": 7,
   "metadata": {},
   "outputs": [
    {
     "name": "stdout",
     "output_type": "stream",
     "text": [
      "The complete list is ---> [0, 1, 0, 1, 0, 0, 1, 1, 1, 0, 0, 1, 0, 0, 1, 1, 0, 0, 0, 1, 0, 0, 0, 0, 0, 0, 0, 0, 0, 0, 1, 0, 0, 1, 0, 0, 0, 1, 0, 1, 0, 0, 0, 0, 0, 1, 0, 0, 0, 0, 0, 1, 1, 0, 0, 0]\n"
     ]
    }
   ],
   "source": [
    "new_str= airlines.split(',')\n",
    "#print (\"new string is:\" + str(new_str))\n",
    "list_with_star=[]\n",
    "counter=0\n",
    "for name in new_str:\n",
    "    isStar= name.rfind(\"*\")\n",
    "    if isStar == -1:\n",
    "        list_with_star.append(0)\n",
    "       # print(\"name without star ->\" + name )\n",
    "    else:\n",
    "        list_with_star.append(1)\n",
    "    \n",
    "    \n",
    "print (\"The complete list is ---> \"+str(list_with_star))"
   ]
  },
  {
   "cell_type": "markdown",
   "metadata": {},
   "source": [
    "# Question 7: Create a list of airline names (include all airlines, but not the asterisk).\n",
    "Expected output: ['Aer Lingus', 'Aeroflot', 'Aerolineas Argentinas', ...] "
   ]
  },
  {
   "cell_type": "code",
   "execution_count": 8,
   "metadata": {
    "scrolled": true
   },
   "outputs": [
    {
     "name": "stdout",
     "output_type": "stream",
     "text": [
      "['Aer Lingus', 'Aeroflot', 'Aerolineas Argentinas', 'Aeromexico', 'Air Canada', 'Air France', 'Air India', 'Air New Zealand', 'Alaska Airlines', 'Alitalia', 'All Nippon Airways', 'American', 'Austrian Airlines', 'Avianca', 'British Airways', 'Cathay Pacific', 'China Airlines', 'Condor', 'COPA', 'Delta / Northwest', 'Egyptair', 'El Al', 'Ethiopian Airlines', 'Finnair', 'Garuda Indonesia', 'Gulf Air', 'Hawaiian Airlines', 'Iberia', 'Japan Airlines', 'Kenya Airways', 'KLM', 'Korean Air', 'LAN Airlines', 'Lufthansa', 'Malaysia Airlines', 'Pakistan International', 'Philippine Airlines', 'Qantas', 'Royal Air Maroc', 'SAS', 'Saudi Arabian', 'Singapore Airlines', 'South African', 'Southwest Airlines', 'Sri Lankan / AirLanka', 'SWISS', 'TACA', 'TAM', 'TAP - Air Portugal', 'Thai Airways', 'Turkish Airlines', 'United / Continental', 'US Airways / America West', 'Vietnam Airlines', 'Virgin Atlantic', 'Xiamen Airlines']\n"
     ]
    }
   ],
   "source": [
    "new_str= airlines.split(',')\n",
    "list_without_star=[]\n",
    "for name in new_str:\n",
    "  list_without_star.append(name.replace(\"*\",\"\"))\n",
    "   \n",
    "print (list_without_star)"
   ]
  },
  {
   "cell_type": "markdown",
   "metadata": {},
   "source": [
    "# Question 8: Create a dictionary in which the key is the airline name (without the star) and the value is the average number of incidents.\n",
    "Expected output: {'Aer Lingus': 0.07, 'Aeroflot': 2.73, ...}"
   ]
  },
  {
   "cell_type": "markdown",
   "metadata": {},
   "source": [
    "**Note**: number of available seat kilometers (ASKs), which is defined as the number of seats multiplied by the number of kilometers the airline flies"
   ]
  },
  {
   "cell_type": "code",
   "execution_count": 9,
   "metadata": {
    "scrolled": true
   },
   "outputs": [
    {
     "name": "stdout",
     "output_type": "stream",
     "text": [
      "{'Aer Lingus': '320906734', 'Aeroflot': '1197672318', 'Aerolineas Argentinas': '385803648', 'Aeromexico': '596871813', 'Air Canada': '1865253802', 'Air France': '3004002661', 'Air India': '869253552', 'Air New Zealand': '710174817', 'Alaska Airlines': '965346773', 'Alitalia': '698012498', 'All Nippon Airways': '1841234177', 'American': '5228357340', 'Austrian Airlines': '358239823', 'Avianca': '396922563', 'British Airways': '3179760952', 'Cathay Pacific': '2582459303', 'China Airlines': '813216487', 'Condor': '417982610', 'COPA': '550491507', 'Delta / Northwest': '6525658894', 'Egyptair': '557699891', 'El Al': '335448023', 'Ethiopian Airlines': '488560643', 'Finnair': '506464950', 'Garuda Indonesia': '613356665', 'Gulf Air': '301379762', 'Hawaiian Airlines': '493877795', 'Iberia': '1173203126', 'Japan Airlines': '1574217531', 'Kenya Airways': '277414794', 'KLM': '1874561773', 'Korean Air': '1734522605', 'LAN Airlines': '1001965891', 'Lufthansa': '3426529504', 'Malaysia Airlines': '1039171244', 'Pakistan International': '348563137', 'Philippine Airlines': '413007158', 'Qantas': '1917428984', 'Royal Air Maroc': '295705339', 'SAS': '682971852', 'Saudi Arabian': '859673901', 'Singapore Airlines': '2376857805', 'South African': '651502442', 'Southwest Airlines': '3276525770', 'Sri Lankan / AirLanka': '325582976', 'SWISS': '792601299', 'TACA': '259373346', 'TAM': '1509195646', 'TAP - Air Portugal': '619130754', 'Thai Airways': '1702802250', 'Turkish Airlines': '1946098294', 'United / Continental': '7139291291', 'US Airways / America West': '2455687887', 'Vietnam Airlines': '625084918', 'Virgin Atlantic': '1005248585', 'Xiamen Airlines': '430462962'}\n"
     ]
    }
   ],
   "source": [
    "ask = '320906734,1197672318,385803648,596871813,1865253802,3004002661,869253552,\\\n",
    "710174817,965346773,698012498,1841234177,5228357340,358239823,396922563,\\\n",
    "3179760952,2582459303,813216487,417982610,550491507,6525658894,557699891,\\\n",
    "335448023,488560643,506464950,613356665,301379762,493877795,1173203126,\\\n",
    "1574217531,277414794,1874561773,1734522605,1001965891,3426529504,1039171244,\\\n",
    "348563137,413007158,1917428984,295705339,682971852,859673901,2376857805,\\\n",
    "651502442,3276525770,325582976,792601299,259373346,1509195646,619130754,\\\n",
    "1702802250,1946098294,7139291291,2455687887,625084918,1005248585,430462962'\n",
    "\n",
    "new_str= airlines.split(',')\n",
    "ask_str=ask.replace('\\n', '')\n",
    "ask_str1=ask_str.split(',')\n",
    "list_without_star=[]\n",
    "for name in new_str:\n",
    "  list_without_star.append(name.replace(\"*\",\"\"))\n",
    "#print (list_without_star)\n",
    "\n",
    "dict_airline ={}\n",
    "for i in range(len(list_without_star)):\n",
    "    dict_airline[list_without_star[i]]= ask_str1[i]\n",
    "\n",
    "print (dict_airline)"
   ]
  },
  {
   "cell_type": "code",
   "execution_count": null,
   "metadata": {},
   "outputs": [],
   "source": []
  }
 ],
 "metadata": {
  "kernelspec": {
   "display_name": "Python 3",
   "language": "python",
   "name": "python3"
  },
  "language_info": {
   "codemirror_mode": {
    "name": "ipython",
    "version": 3
   },
   "file_extension": ".py",
   "mimetype": "text/x-python",
   "name": "python",
   "nbconvert_exporter": "python",
   "pygments_lexer": "ipython3",
   "version": "3.7.6"
  }
 },
 "nbformat": 4,
 "nbformat_minor": 2
}
