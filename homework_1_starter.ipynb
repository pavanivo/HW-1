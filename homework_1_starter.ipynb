{
 "cells": [
  {
   "cell_type": "markdown",
   "metadata": {},
   "source": [
    "Created on Sat Oct 15 16:57:34 2016\n",
    "\n",
    "@author: alsherman\n",
    "\n",
    "Data Source: https://github.com/fivethirtyeight/data/tree/master/airline-safety"
   ]
  },
  {
   "cell_type": "markdown",
   "metadata": {},
   "source": [
    "# Setup"
   ]
  },
  {
   "cell_type": "markdown",
   "metadata": {},
   "source": [
    "Run the following line of code that will assign a string of airlines to the airlines variable."
   ]
  },
  {
   "cell_type": "code",
   "execution_count": 3,
   "metadata": {},
   "outputs": [],
   "source": [
    "airlines = \"\"\"Aer Lingus,Aeroflot*,Aerolineas Argentinas,Aeromexico*,Air Canada,Air France,\n",
    "Air India*,Air New Zealand*,Alaska Airlines*,Alitalia,All Nippon Airways,American*,\n",
    "Austrian Airlines,Avianca,British Airways*,Cathay Pacific*,China Airlines,Condor,\n",
    "COPA,Delta / Northwest*,Egyptair,El Al,Ethiopian Airlines,Finnair,Garuda Indonesia,\n",
    "Gulf Air,Hawaiian Airlines,Iberia,Japan Airlines,Kenya Airways,KLM*,Korean Air,LAN Airlines,\n",
    "Lufthansa*,Malaysia Airlines,Pakistan International,Philippine Airlines,Qantas*,\n",
    "Royal Air Maroc,SAS*,Saudi Arabian,Singapore Airlines,South African,Southwest Airlines,\n",
    "Sri Lankan / AirLanka,SWISS*,TACA,TAM,TAP - Air Portugal,Thai Airways,Turkish Airlines,\n",
    "United / Continental*,US Airways / America West*,Vietnam Airlines,Virgin Atlantic,\n",
    "Xiamen Airlines\"\"\""
   ]
  },
  {
   "cell_type": "markdown",
   "metadata": {},
   "source": [
    "# Question 1: What type is the variable \"airlines\"?"
   ]
  },
  {
   "cell_type": "code",
   "execution_count": 4,
   "metadata": {},
   "outputs": [
    {
     "data": {
      "text/plain": [
       "str"
      ]
     },
     "execution_count": 4,
     "metadata": {},
     "output_type": "execute_result"
    }
   ],
   "source": [
    "type(airlines)"
   ]
  },
  {
   "cell_type": "markdown",
   "metadata": {},
   "source": [
    "# Question 2: What operations can we conduct on type airlines?"
   ]
  },
  {
   "cell_type": "code",
   "execution_count": null,
   "metadata": {},
   "outputs": [],
   "source": []
  },
  {
   "cell_type": "markdown",
   "metadata": {},
   "source": [
    "# Question 3: How many airlines are there?"
   ]
  },
  {
   "cell_type": "code",
   "execution_count": null,
   "metadata": {},
   "outputs": [],
   "source": []
  },
  {
   "cell_type": "markdown",
   "metadata": {},
   "source": [
    "# Question 4: How many airlines start with the letter 'A' (only capital letters) ?"
   ]
  },
  {
   "cell_type": "code",
   "execution_count": null,
   "metadata": {},
   "outputs": [],
   "source": []
  },
  {
   "cell_type": "markdown",
   "metadata": {},
   "source": [
    "# Question 5: create a list that only includes airlines that start with the letter \"A\""
   ]
  },
  {
   "cell_type": "code",
   "execution_count": null,
   "metadata": {},
   "outputs": [],
   "source": []
  },
  {
   "cell_type": "markdown",
   "metadata": {},
   "source": [
    "# Question 6: Create a list (of the same length) that contains 1 if there's a star and 0 if not.\n",
    "Expected output: [0, 1, 0, ...]"
   ]
  },
  {
   "cell_type": "code",
   "execution_count": null,
   "metadata": {},
   "outputs": [],
   "source": []
  },
  {
   "cell_type": "markdown",
   "metadata": {},
   "source": [
    "# Question 7: Create a list of airline names (include all airlines, but not the asterisk).\n",
    "Expected output: ['Aer Lingus', 'Aeroflot', 'Aerolineas Argentinas', ...] "
   ]
  },
  {
   "cell_type": "code",
   "execution_count": null,
   "metadata": {},
   "outputs": [],
   "source": []
  },
  {
   "cell_type": "markdown",
   "metadata": {},
   "source": [
    "# Question 8: Create a dictionary in which the key is the airline name (without the star) and the value is the average number of incidents.\n",
    "Expected output: {'Aer Lingus': 0.07, 'Aeroflot': 2.73, ...}"
   ]
  },
  {
   "cell_type": "markdown",
   "metadata": {},
   "source": [
    "**Note**: number of available seat kilometers (ASKs), which is defined as the number of seats multiplied by the number of kilometers the airline flies"
   ]
  },
  {
   "cell_type": "code",
   "execution_count": 20,
   "metadata": {},
   "outputs": [],
   "source": [
    "ask = '320906734,1197672318,385803648,596871813,1865253802,3004002661,869253552,\\\n",
    "710174817,965346773,698012498,1841234177,5228357340,358239823,396922563,\\\n",
    "3179760952,2582459303,813216487,417982610,550491507,6525658894,557699891,\\\n",
    "335448023,488560643,506464950,613356665,301379762,493877795,1173203126,\\\n",
    "1574217531,277414794,1874561773,1734522605,1001965891,3426529504,1039171244,\\\n",
    "348563137,413007158,1917428984,295705339,682971852,859673901,2376857805,\\\n",
    "651502442,3276525770,325582976,792601299,259373346,1509195646,619130754,\\\n",
    "1702802250,1946098294,7139291291,2455687887,625084918,1005248585,430462962'"
   ]
  },
  {
   "cell_type": "code",
   "execution_count": null,
   "metadata": {},
   "outputs": [],
   "source": []
  }
 ],
 "metadata": {
  "kernelspec": {
   "display_name": "Python 3",
   "language": "python",
   "name": "python3"
  },
  "language_info": {
   "codemirror_mode": {
    "name": "ipython",
    "version": 3
   },
   "file_extension": ".py",
   "mimetype": "text/x-python",
   "name": "python",
   "nbconvert_exporter": "python",
   "pygments_lexer": "ipython3",
   "version": "3.7.3"
  }
 },
 "nbformat": 4,
 "nbformat_minor": 2
}
