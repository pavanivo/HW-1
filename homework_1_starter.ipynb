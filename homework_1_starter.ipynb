{
 "cells": [
  {
   "cell_type": "markdown",
   "metadata": {},
   "source": [
    "Created on Sat Oct 15 16:57:34 2016\n",
    "\n",
    "@author: alsherman\n",
    "\n",
    "Data Source: https://github.com/fivethirtyeight/data/tree/master/airline-safety"
   ]
  },
  {
   "cell_type": "markdown",
   "metadata": {},
   "source": [
    "# Setup"
   ]
  },
  {
   "cell_type": "markdown",
   "metadata": {},
   "source": [
    "Run the following line of code that will assign a string of airlines to the airlines variable."
   ]
  },
  {
   "cell_type": "code",
   "execution_count": 1,
   "metadata": {},
   "outputs": [
    {
     "data": {
      "text/plain": [
       "'Aer Lingus,Aeroflot*,Aerolineas Argentinas,Aeromexico*,Air Canada,Air France,\\nAir India*,Air New Zealand*,Alaska Airlines*,Alitalia,All Nippon Airways,American*,\\nAustrian Airlines,Avianca,British Airways*,Cathay Pacific*,China Airlines,Condor,\\nCOPA,Delta / Northwest*,Egyptair,El Al,Ethiopian Airlines,Finnair,Garuda Indonesia,\\nGulf Air,Hawaiian Airlines,Iberia,Japan Airlines,Kenya Airways,KLM*,Korean Air,LAN Airlines,\\nLufthansa*,Malaysia Airlines,Pakistan International,Philippine Airlines,Qantas*,\\nRoyal Air Maroc,SAS*,Saudi Arabian,Singapore Airlines,South African,Southwest Airlines,\\nSri Lankan / AirLanka,SWISS*,TACA,TAM,TAP - Air Portugal,Thai Airways,Turkish Airlines,\\nUnited / Continental*,US Airways / America West*,Vietnam Airlines,Virgin Atlantic,\\nXiamen Airlines'"
      ]
     },
     "execution_count": 1,
     "metadata": {},
     "output_type": "execute_result"
    }
   ],
   "source": [
    "airlines = \"\"\"Aer Lingus,Aeroflot*,Aerolineas Argentinas,Aeromexico*,Air Canada,Air France,\n",
    "Air India*,Air New Zealand*,Alaska Airlines*,Alitalia,All Nippon Airways,American*,\n",
    "Austrian Airlines,Avianca,British Airways*,Cathay Pacific*,China Airlines,Condor,\n",
    "COPA,Delta / Northwest*,Egyptair,El Al,Ethiopian Airlines,Finnair,Garuda Indonesia,\n",
    "Gulf Air,Hawaiian Airlines,Iberia,Japan Airlines,Kenya Airways,KLM*,Korean Air,LAN Airlines,\n",
    "Lufthansa*,Malaysia Airlines,Pakistan International,Philippine Airlines,Qantas*,\n",
    "Royal Air Maroc,SAS*,Saudi Arabian,Singapore Airlines,South African,Southwest Airlines,\n",
    "Sri Lankan / AirLanka,SWISS*,TACA,TAM,TAP - Air Portugal,Thai Airways,Turkish Airlines,\n",
    "United / Continental*,US Airways / America West*,Vietnam Airlines,Virgin Atlantic,\n",
    "Xiamen Airlines\"\"\"\n",
    "\n",
    "airlines"
   ]
  },
  {
   "cell_type": "markdown",
   "metadata": {},
   "source": [
    "# Question 1: What type is the variable \"airlines\"?"
   ]
  },
  {
   "cell_type": "code",
   "execution_count": 2,
   "metadata": {
    "scrolled": true
   },
   "outputs": [
    {
     "data": {
      "text/plain": [
       "str"
      ]
     },
     "execution_count": 2,
     "metadata": {},
     "output_type": "execute_result"
    }
   ],
   "source": [
    "type(airlines)"
   ]
  },
  {
   "cell_type": "markdown",
   "metadata": {},
   "source": [
    "# Question 2: What operations can we conduct on type airlines?"
   ]
  },
  {
   "cell_type": "code",
   "execution_count": 3,
   "metadata": {},
   "outputs": [
    {
     "data": {
      "text/plain": [
       "['In',\n",
       " 'Out',\n",
       " '_',\n",
       " '_1',\n",
       " '_2',\n",
       " '__',\n",
       " '___',\n",
       " '__builtin__',\n",
       " '__builtins__',\n",
       " '__doc__',\n",
       " '__loader__',\n",
       " '__name__',\n",
       " '__package__',\n",
       " '__spec__',\n",
       " '_dh',\n",
       " '_i',\n",
       " '_i1',\n",
       " '_i2',\n",
       " '_i3',\n",
       " '_ih',\n",
       " '_ii',\n",
       " '_iii',\n",
       " '_oh',\n",
       " 'airlines',\n",
       " 'exit',\n",
       " 'get_ipython',\n",
       " 'quit']"
      ]
     },
     "execution_count": 3,
     "metadata": {},
     "output_type": "execute_result"
    }
   ],
   "source": [
    "dir()"
   ]
  },
  {
   "cell_type": "markdown",
   "metadata": {},
   "source": [
    "# Question 3: How many airlines are there?"
   ]
  },
  {
   "cell_type": "code",
   "execution_count": 4,
   "metadata": {},
   "outputs": [
    {
     "name": "stdout",
     "output_type": "stream",
     "text": [
      "56\n"
     ]
    }
   ],
   "source": [
    "#create a counter\n",
    "counter =1\n",
    "#loop for , and count \n",
    "for character in airlines:\n",
    "    if character ==',':\n",
    "        counter +=1\n",
    "#print the count\n",
    "print(counter)\n",
    "\n"
   ]
  },
  {
   "cell_type": "markdown",
   "metadata": {},
   "source": [
    "# Question 4: How many airlines start with the letter 'A' (only capital letters) ?"
   ]
  },
  {
   "cell_type": "code",
   "execution_count": 23,
   "metadata": {
    "scrolled": true
   },
   "outputs": [
    {
     "name": "stdout",
     "output_type": "stream",
     "text": [
      "Number of air lines starting with A : 12\n"
     ]
    }
   ],
   "source": [
    "#split by commas\n",
    "new_str= airlines.split(',')\n",
    "#print (new_str)\n",
    "counter=0\n",
    "#check for letter A and add to counter if 1st letter is A\n",
    "for name in new_str:\n",
    "    name.replace(\"\\n\",\"\")\n",
    "    if name[0]== 'A':\n",
    "        counter +=1        \n",
    "print (\"Number of air lines starting with A : \"+ str(counter))    "
   ]
  },
  {
   "cell_type": "markdown",
   "metadata": {},
   "source": [
    "# Question 5: create a list that only includes airlines that start with the letter \"A\""
   ]
  },
  {
   "cell_type": "code",
   "execution_count": 6,
   "metadata": {},
   "outputs": [
    {
     "name": "stdout",
     "output_type": "stream",
     "text": [
      "Number of air lines starting with A : 12\n",
      "Number of air lines starting with A : ['Aer Lingus', 'Aeroflot*', 'Aerolineas Argentinas', 'Aeromexico*', 'Air Canada', 'Air France', 'Air New Zealand*', 'Alaska Airlines*', 'Alitalia', 'All Nippon Airways', 'American*', 'Avianca']\n"
     ]
    }
   ],
   "source": [
    "new_str= airlines.split(',')\n",
    "#print (new_str)\n",
    "list_with_A=[]\n",
    "counter=0\n",
    "for name in new_str:\n",
    "    if name[0]== 'A':\n",
    "        counter +=1\n",
    "        list_with_A.append(name)\n",
    "print (\"Number of air lines starting with A : \"+ str(counter)) \n",
    "print (\"Number of air lines starting with A : \"+ str(list_with_A))"
   ]
  },
  {
   "cell_type": "markdown",
   "metadata": {},
   "source": [
    "# Question 6: Create a list (of the same length) that contains 1 if there's a star and 0 if not.\n",
    "Expected output: [0, 1, 0, ...]"
   ]
  },
  {
   "cell_type": "code",
   "execution_count": 7,
   "metadata": {},
   "outputs": [
    {
     "name": "stdout",
     "output_type": "stream",
     "text": [
      "The complete list is ---> [0, 1, 0, 1, 0, 0, 1, 1, 1, 0, 0, 1, 0, 0, 1, 1, 0, 0, 0, 1, 0, 0, 0, 0, 0, 0, 0, 0, 0, 0, 1, 0, 0, 1, 0, 0, 0, 1, 0, 1, 0, 0, 0, 0, 0, 1, 0, 0, 0, 0, 0, 1, 1, 0, 0, 0]\n"
     ]
    }
   ],
   "source": [
    "new_str= airlines.split(',')\n",
    "#print (\"new string is:\" + str(new_str))\n",
    "list_with_star=[]\n",
    "counter=0\n",
    "for name in new_str:\n",
    "    isStar= name.rfind(\"*\")\n",
    "    if isStar == -1:\n",
    "        list_with_star.append(0)\n",
    "       # print(\"name without star ->\" + name )\n",
    "    else:\n",
    "        list_with_star.append(1)\n",
    "    \n",
    "    \n",
    "print (\"The complete list is ---> \"+str(list_with_star))"
   ]
  },
  {
   "cell_type": "markdown",
   "metadata": {},
   "source": [
    "# Question 7: Create a list of airline names (include all airlines, but not the asterisk).\n",
    "Expected output: ['Aer Lingus', 'Aeroflot', 'Aerolineas Argentinas', ...] "
   ]
  },
  {
   "cell_type": "code",
   "execution_count": 8,
   "metadata": {
    "scrolled": true
   },
   "outputs": [
    {
     "name": "stdout",
     "output_type": "stream",
     "text": [
      "['Aer Lingus', 'Aeroflot', 'Aerolineas Argentinas', 'Aeromexico', 'Air Canada', 'Air France', '\\nAir India', 'Air New Zealand', 'Alaska Airlines', 'Alitalia', 'All Nippon Airways', 'American', '\\nAustrian Airlines', 'Avianca', 'British Airways', 'Cathay Pacific', 'China Airlines', 'Condor', '\\nCOPA', 'Delta / Northwest', 'Egyptair', 'El Al', 'Ethiopian Airlines', 'Finnair', 'Garuda Indonesia', '\\nGulf Air', 'Hawaiian Airlines', 'Iberia', 'Japan Airlines', 'Kenya Airways', 'KLM', 'Korean Air', 'LAN Airlines', '\\nLufthansa', 'Malaysia Airlines', 'Pakistan International', 'Philippine Airlines', 'Qantas', '\\nRoyal Air Maroc', 'SAS', 'Saudi Arabian', 'Singapore Airlines', 'South African', 'Southwest Airlines', '\\nSri Lankan / AirLanka', 'SWISS', 'TACA', 'TAM', 'TAP - Air Portugal', 'Thai Airways', 'Turkish Airlines', '\\nUnited / Continental', 'US Airways / America West', 'Vietnam Airlines', 'Virgin Atlantic', '\\nXiamen Airlines']\n"
     ]
    }
   ],
   "source": [
    "new_str= airlines.split(',')\n",
    "list_without_star=[]\n",
    "for name in new_str:\n",
    "  list_without_star.append(name.replace(\"*\",\"\"))\n",
    "   \n",
    "print (list_without_star)"
   ]
  },
  {
   "cell_type": "markdown",
   "metadata": {},
   "source": [
    "# Question 8: Create a dictionary in which the key is the airline name (without the star) and the value is the average number of incidents.\n",
    "Expected output: {'Aer Lingus': 0.07, 'Aeroflot': 2.73, ...}"
   ]
  },
  {
   "cell_type": "markdown",
   "metadata": {},
   "source": [
    "**Note**: number of available seat kilometers (ASKs), which is defined as the number of seats multiplied by the number of kilometers the airline flies"
   ]
  },
  {
   "cell_type": "code",
   "execution_count": 12,
   "metadata": {
    "scrolled": true
   },
   "outputs": [
    {
     "name": "stdout",
     "output_type": "stream",
     "text": [
      "['Aer Lingus', 'Aer Lingus', 'Aeroflot', 'Aeroflot*', 'Aerolineas Argentinas', 'Aerolineas Argentinas', 'Aeromexico', 'Aeromexico*', 'Air Canada', 'Air Canada', 'Air France', 'Air France', '\\nAir India', 'Air India*', 'Air New Zealand', 'Air New Zealand*', 'Alaska Airlines', 'Alaska Airlines*', 'Alitalia', 'Alitalia', 'All Nippon Airways', 'All Nippon Airways', 'American', 'American*', '\\nAustrian Airlines', 'Austrian Airlines', 'Avianca', 'Avianca', 'British Airways', 'British Airways*', 'Cathay Pacific', 'Cathay Pacific*', 'China Airlines', 'China Airlines', 'Condor', 'Condor', '\\nCOPA', 'COPA', 'Delta / Northwest', 'Delta / Northwest*', 'Egyptair', 'Egyptair', 'El Al', 'El Al', 'Ethiopian Airlines', 'Ethiopian Airlines', 'Finnair', 'Finnair', 'Garuda Indonesia', 'Garuda Indonesia', '\\nGulf Air', 'Gulf Air', 'Hawaiian Airlines', 'Hawaiian Airlines', 'Iberia', 'Iberia', 'Japan Airlines', 'Japan Airlines', 'Kenya Airways', 'Kenya Airways', 'KLM', 'KLM*', 'Korean Air', 'Korean Air', 'LAN Airlines', 'LAN Airlines', '\\nLufthansa', 'Lufthansa*', 'Malaysia Airlines', 'Malaysia Airlines', 'Pakistan International', 'Pakistan International', 'Philippine Airlines', 'Philippine Airlines', 'Qantas', 'Qantas*', '\\nRoyal Air Maroc', 'Royal Air Maroc', 'SAS', 'SAS*', 'Saudi Arabian', 'Saudi Arabian', 'Singapore Airlines', 'Singapore Airlines', 'South African', 'South African', 'Southwest Airlines', 'Southwest Airlines', '\\nSri Lankan / AirLanka', 'Sri Lankan / AirLanka', 'SWISS', 'SWISS*', 'TACA', 'TACA', 'TAM', 'TAM', 'TAP - Air Portugal', 'TAP - Air Portugal', 'Thai Airways', 'Thai Airways', 'Turkish Airlines', 'Turkish Airlines', '\\nUnited / Continental', 'United / Continental*', 'US Airways / America West', 'US Airways / America West*', 'Vietnam Airlines', 'Vietnam Airlines', 'Virgin Atlantic', 'Virgin Atlantic', '\\nXiamen Airlines', 'Xiamen Airlines']\n"
     ]
    }
   ],
   "source": [
    "ask = '320906734,1197672318,385803648,596871813,1865253802,3004002661,869253552,\\\n",
    "710174817,965346773,698012498,1841234177,5228357340,358239823,396922563,\\\n",
    "3179760952,2582459303,813216487,417982610,550491507,6525658894,557699891,\\\n",
    "335448023,488560643,506464950,613356665,301379762,493877795,1173203126,\\\n",
    "1574217531,277414794,1874561773,1734522605,1001965891,3426529504,1039171244,\\\n",
    "348563137,413007158,1917428984,295705339,682971852,859673901,2376857805,\\\n",
    "651502442,3276525770,325582976,792601299,259373346,1509195646,619130754,\\\n",
    "1702802250,1946098294,7139291291,2455687887,625084918,1005248585,430462962'\n",
    "\n",
    "new_str= airlines.split(',')\n",
    "list_without_star=[]\n",
    "for name in new_str:\n",
    "  list_without_star.append(name.replace(\"*\",\"\"))\n",
    "  list_without_star.append(name.replace(\"\\n\",\"\"))\n",
    "\n",
    "   \n",
    "print (list_without_star)"
   ]
  },
  {
   "cell_type": "code",
   "execution_count": null,
   "metadata": {},
   "outputs": [],
   "source": []
  }
 ],
 "metadata": {
  "kernelspec": {
   "display_name": "Python 3",
   "language": "python",
   "name": "python3"
  },
  "language_info": {
   "codemirror_mode": {
    "name": "ipython",
    "version": 3
   },
   "file_extension": ".py",
   "mimetype": "text/x-python",
   "name": "python",
   "nbconvert_exporter": "python",
   "pygments_lexer": "ipython3",
   "version": "3.7.6"
  }
 },
 "nbformat": 4,
 "nbformat_minor": 2
}
